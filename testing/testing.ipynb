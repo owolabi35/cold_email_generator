{
 "cells": [
  {
   "cell_type": "code",
   "execution_count": 3,
   "metadata": {},
   "outputs": [
    {
     "name": "stdout",
     "output_type": "stream",
     "text": [
      "<think>\n",
      "Okay, so I'm trying to figure out who the best footballer of all time is. I know this is a question that a lot of people have different opinions on, but I want to think it through step by step. \n",
      "\n",
      "First, I should consider what makes a footballer the \"best.\" Is it the number of trophies they've won, their individual skills, their impact on their team, or something else? Maybe it's a combination of these factors. \n",
      "\n",
      "I remember hearing about Lionel Messi and Cristiano Ronaldo a lot. They've been dominating the sport for a long time. Messi has won multiple Ballon d'Or awards, which is a big deal. He's known for his dribbling skills and ability to score goals. Ronaldo, on the other hand, is also a prolific scorer and has won numerous titles, including multiple Champions League trophies. \n",
      "\n",
      "But then there are legends from earlier eras. Pelé is often mentioned as one of the greatest. He won three World Cups with Brazil, which is an incredible achievement. Diego Maradona is another name that comes up; he led Argentina to World Cup victory and is famous for his leadership and skill on the field. \n",
      "\n",
      "Johan Cruyff is also someone I've heard about. He was a key player in the development of Total Football and won the Ballon d'Or multiple times. His influence on the game goes beyond just his playing career. \n",
      "\n",
      "Zinedine Zidane is another great player. He won the World Cup with France and was known for his exceptional skill and leadership. \n",
      "\n",
      "So, how do I compare players from different eras? It's tricky because the game has changed over time. The training, tactics, and even the balls are different now. Players from the past might not have the same exposure or resources as today's players, but their impact on the game was still significant. \n",
      "\n",
      "I should also consider their longevity and consistency. Messi and Ronaldo have been at the top of their game for over a decade, which is impressive. Pelé's career was shorter, but his peak was incredibly high. \n",
      "\n",
      "Another factor is their performance in big tournaments. World Cups and Champions League finals are where legends are made. Messi has had some great moments in the Champions League, but he hasn't won a World Cup. Ronaldo has won major international trophies with Portugal. Pelé won three World Cups, which is unmatched. \n",
      "\n",
      "I also think about their overall impact on the game. Did they change how football is played? Cruyff and his Total Football approach definitely influenced tactics. Maradona's leadership and skill inspired a lot of players. \n",
      "\n",
      "It's also worth considering their individual awards and records. Messi has the most Ballon d'Or awards, which is a significant recognition. Ronaldo has consistently scored goals at an elite level for many years. \n",
      "\n",
      "But then, there's the debate about team success versus individual brilliance. Some argue that winning major trophies with your team is more important than individual accolades. Others say that individual skill and creativity are what make a player the best. \n",
      "\n",
      "I also wonder about their versatility. Can they play in multiple positions? Messi is primarily a forward but can play on the wing. Ronaldo has played as a winger and a striker. Pelé was a versatile forward as well. \n",
      "\n",
      "Injuries and consistency over the career also play a role. Some players have careers cut short by injuries, while others maintain a high level of performance for longer. \n",
      "\n",
      "I should also think about their impact off the field. Some players become icons and inspire people beyond just their football skills. Maradona, for example, was a cultural icon in Argentina. \n",
      "\n",
      "So, putting all this together, it's a tough call. Each player has their own strengths and achievements. Messi's individual brilliance and consistent success at club level are hard to match. Ronaldo's trophy cabinet and ability to perform on the biggest stages are equally impressive. Pelé's three World Cups and impact on the game are legendary. \n",
      "\n",
      "I think it comes down to personal preference and what aspects you value more. If you prioritize individual skill and creativity, Messi might be the answer. If you look at overall trophies and consistency, Ronaldo could be the choice. If you consider impact on the game and success in major tournaments, Pelé might be the best. \n",
      "\n",
      "But since the question is about the best of all time, I think Messi is often considered because of his sustained brilliance and the way he's dominated the sport for so long. However, others might argue for Ronaldo or Pelé based on their own criteria. \n",
      "\n",
      "I guess there's no definitive answer, but Messi is frequently cited as the best by many experts and fans.\n",
      "</think>\n",
      "\n",
      "The question of who is the best footballer of all time is subjective and depends on various criteria. However, based on sustained brilliance, individual skill, and consistent dominance over a long period, Lionel Messi is often considered the best. His numerous individual accolades, including multiple Ballon d'Or awards, and his impact on the game make a strong case for him. However, others may argue for Cristiano Ronaldo or Pelé based on their trophy counts and historical significance. Ultimately, the answer depends on the criteria one values most.\n"
     ]
    }
   ],
   "source": [
    "from langchain_groq import ChatGroq\n",
    "from dotenv import load_dotenv\n",
    "\n",
    "llm = ChatGroq(\n",
    "    model=\"DeepSeek-R1-Distill-Llama-70b\",\n",
    "    temperature=0,\n",
    "    max_tokens=None,\n",
    "    timeout=None,\n",
    "    max_retries=2,\n",
    "    # other params...\n",
    ")\n",
    "\n",
    "response = llm.invoke(\"Who is the best footballer of all times?, no preamble\")\n",
    "print(response.content)"
   ]
  },
  {
   "cell_type": "code",
   "execution_count": 5,
   "metadata": {},
   "outputs": [],
   "source": [
    "import chromadb\n",
    "\n",
    "client = chromadb.Client()\n",
    "collection = client.create_collection(name=\"my_collection\")"
   ]
  },
  {
   "cell_type": "code",
   "execution_count": 8,
   "metadata": {},
   "outputs": [
    {
     "name": "stderr",
     "output_type": "stream",
     "text": [
      "C:\\Users\\user\\.cache\\chroma\\onnx_models\\all-MiniLM-L6-v2\\onnx.tar.gz: 100%|██████████| 79.3M/79.3M [09:10<00:00, 151kiB/s]   \n"
     ]
    }
   ],
   "source": [
    "collection.add(\n",
    "    documents=[\n",
    "        \"I like eating apple everyday\",\n",
    "        \"I like my apple iphone\",\n",
    "        \"Do you like apple?\"\n",
    "    ],\n",
    "    ids=[\"id1\", \"id2\", \"id3\"],\n",
    "    metadatas=[\n",
    "        {\"url\": \"source_to_id_1\"},\n",
    "        {\"url\": \"source_to_id_2\"},\n",
    "        {\"url\": \"source_to_id_3\"},\n",
    "    ]\n",
    ")"
   ]
  },
  {
   "cell_type": "code",
   "execution_count": null,
   "metadata": {},
   "outputs": [],
   "source": [
    "print(collection.get())"
   ]
  },
  {
   "cell_type": "code",
   "execution_count": null,
   "metadata": {},
   "outputs": [],
   "source": [
    "print(collection.get(ids=[\"id1\"]))"
   ]
  },
  {
   "cell_type": "code",
   "execution_count": null,
   "metadata": {},
   "outputs": [],
   "source": [
    "collection.query(query_texts=[\"Do you eat healthy?\"], n_results=2)"
   ]
  }
 ],
 "metadata": {
  "kernelspec": {
   "display_name": "Python 3",
   "language": "python",
   "name": "python3"
  },
  "language_info": {
   "codemirror_mode": {
    "name": "ipython",
    "version": 3
   },
   "file_extension": ".py",
   "mimetype": "text/x-python",
   "name": "python",
   "nbconvert_exporter": "python",
   "pygments_lexer": "ipython3",
   "version": "3.10.0"
  }
 },
 "nbformat": 4,
 "nbformat_minor": 2
}
