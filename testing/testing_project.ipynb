{
 "cells": [
  {
   "cell_type": "code",
   "execution_count": 1,
   "metadata": {},
   "outputs": [
    {
     "data": {
      "text/plain": [
       "\"\\n1. Search for an open opportunity at your possible potential clients\\n2. Search for relevant information from the opening that might act as a good starting point for your business with this company\\n3. Go through all of your company's projects and find relevant projects\\n4. Get important to share information about these projects\\n5. Write a compelling cold email about how your firm can be of great service to your potential client\\n6. Repeat for ALL potential clients\\n\""
      ]
     },
     "execution_count": 1,
     "metadata": {},
     "output_type": "execute_result"
    }
   ],
   "source": [
    "\"\"\"\n",
    "1. Search for an open opportunity at your possible potential clients\n",
    "2. Search for relevant information from the opening that might act as a good starting point for your business with this company\n",
    "3. Go through all of your company's projects and find relevant projects\n",
    "4. Get important to share information about these projects\n",
    "5. Write a compelling cold email about how your firm can be of great service to your potential client\n",
    "6. Repeat for ALL potential clients\n",
    "\"\"\""
   ]
  },
  {
   "cell_type": "code",
   "execution_count": null,
   "metadata": {},
   "outputs": [],
   "source": [
    "# Web Scraping\n",
    "\n",
    "# Relevant information\n",
    "\n",
    "# Chromadb query\n",
    "\n",
    "# Email Generation"
   ]
  },
  {
   "cell_type": "code",
   "execution_count": 2,
   "metadata": {},
   "outputs": [
    {
     "name": "stderr",
     "output_type": "stream",
     "text": [
      "USER_AGENT environment variable not set, consider setting it to identify your requests.\n"
     ]
    }
   ],
   "source": [
    "from langchain_community.document_loaders import WebBaseLoader\n",
    "\n",
    "loader = WebBaseLoader(\"https://meinestadt.jobs.personio.de/job/1757093?language=en&display=de\")\n",
    "page_data = loader.load().pop().page_content\n",
    "#print(page_data)"
   ]
  },
  {
   "cell_type": "code",
   "execution_count": 3,
   "metadata": {},
   "outputs": [],
   "source": [
    "from langchain_groq import ChatGroq\n",
    "\n",
    "llm = ChatGroq(\n",
    "    model=\"DeepSeek-R1-Distill-Llama-70b\",\n",
    "    temperature=0,\n",
    "    max_tokens=None,\n",
    "    timeout=None,\n",
    "    max_retries=2,\n",
    "    # other params...\n",
    ")\n",
    "\n",
    "#response = llm.invoke(\"Who is the best footballer of all times?, no preamble\")\n",
    "#print(response.content)"
   ]
  },
  {
   "cell_type": "code",
   "execution_count": 4,
   "metadata": {},
   "outputs": [
    {
     "name": "stdout",
     "output_type": "stream",
     "text": [
      "<class 'str'>\n",
      "<think>\n",
      "Okay, I need to extract job details from the given text and structure them into a JSON with specific keys: role, experience, skills, and description. Let me go through the text step by step.\n",
      "\n",
      "First, the role is clearly mentioned as \"Team Lead Software Engineering (m/f/x)\" or \"Team Lead Software Engineering (m/w/d)\". I'll use the first occurrence.\n",
      "\n",
      "Next, for experience, the text says \"Mehrjährige Erfahrung in der Softwareentwicklung, davon mehr als 2 Jahre in Führungspositionen\" which translates to several years of experience with over 2 years in leadership. I'll note that as \"Several years of software engineering experience, including more than 2 years in leadership roles.\"\n",
      "\n",
      "Now, skills. The text lists a few points. I'll translate and list them: solid technical expertise in designing complex software solutions, preferably in an app environment; approaching problems with a focus on simplicity; passion for people and leadership without micromanagement; building relationships with stakeholders; and building effective teams balancing speed, quality, and risk.\n",
      "\n",
      "For the description, I'll take the mission and values sections. The mission includes people leadership, delivery quality, and management. The values are forward-thinking, together, determined, candid, and dedicated. I'll combine these into a coherent paragraph.\n",
      "\n",
      "I need to ensure all sections are accurately translated and concisely presented in JSON without any markdown. Let me structure each part accordingly.\n",
      "</think>\n",
      "\n",
      "```json\n",
      "{\n",
      "    \"role\": \"Team Lead Software Engineering (m/f/x)\",\n",
      "    \"experience\": \"Several years of software engineering experience, including more than 2 years in leadership roles.\",\n",
      "    \"skills\": [\n",
      "        \"Solid technical expertise in designing and developing large-scale, complex software solutions, preferably in an app environment.\",\n",
      "        \"Approach complex issues with an open mindset and a focus on achieving simplicity.\",\n",
      "        \"Passionate about people, offering support and guidance to software engineers while avoiding micromanagement.\",\n",
      "        \"Skilled at rapidly establishing relationships with stakeholders and maintaining a solution-focused approach.\",\n",
      "        \"Capable of building high-performing, self-sufficient teams that effectively balance speed, quality, and risk.\"\n",
      "    ],\n",
      "    \"description\": \"Your mission includes people leadership, delivery quality, and management. You will motivate, supervise, and guide a software development team, ensuring technical integrity and high-quality code delivery. You will collaborate with the Product team to drive technological advancements and oversee the entire feature development process. Our values are forward-thinking, together, determined, candid, and dedicated.\"\n",
      "}\n",
      "```\n"
     ]
    }
   ],
   "source": [
    "from langchain_core.prompts import PromptTemplate\n",
    "\n",
    "prompt_extract = PromptTemplate.from_template(\n",
    "    \"\"\"\n",
    "    I will give you scraped text from the job posting. \n",
    "    Your job is to extract the job details & requirements in a JSON format containing the following keys: 'role', 'experience', 'skills', and 'description'. \n",
    "    Only return valid JSON. No preamble, please.\n",
    "    Here is the scraped text: {page_data}\n",
    "    \"\"\"\n",
    ")\n",
    "\n",
    "chain_extract = prompt_extract | llm \n",
    "response = chain_extract.invoke(input={'page_data':page_data})\n",
    "print(type(response.content))\n",
    "print(response.content)"
   ]
  },
  {
   "cell_type": "code",
   "execution_count": 5,
   "metadata": {},
   "outputs": [
    {
     "name": "stdout",
     "output_type": "stream",
     "text": [
      "<class 'dict'>\n"
     ]
    }
   ],
   "source": [
    "from langchain_core.output_parsers import JsonOutputParser\n",
    "\n",
    "json_parser = JsonOutputParser()\n",
    "json_response = json_parser.parse(response.content)\n",
    "print(type(json_response))"
   ]
  },
  {
   "cell_type": "code",
   "execution_count": 8,
   "metadata": {},
   "outputs": [
    {
     "name": "stdout",
     "output_type": "stream",
     "text": [
      "('Python', ' SQL', ' Pandas')  https://github.com/user/project1\n",
      "('SQL', ' Python', ' Airflow')  https://github.com/user/project2\n",
      "('PySpark', ' Spark SQL', ' Delta Lake')  https://github.com/user/project3\n",
      "('Machine Learning', ' Deep Learning', ' TensorFlow')  https://github.com/user/project4\n",
      "('Data Engineering', ' ETL', ' ELT')  https://github.com/user/project5\n",
      "('Cloud Platforms (AWS', ' GCP', ' Azure)')  https://github.com/user/project6\n",
      "('Data Warehousing', ' Data Modeling', ' DBT')  https://github.com/user/project7\n",
      "('Data Visualization', ' Power BI', ' Tableau')  https://github.com/user/project8\n",
      "('MLOps', ' MLflow', ' Kubeflow')  https://github.com/user/project9\n",
      "('Natural Language Processing (NLP)', ' NLTK', ' spaCy')  https://github.com/user/project10\n",
      "('Computer Vision', ' OpenCV', ' TensorFlow')  https://github.com/user/project11\n",
      "('Time Series Analysis', ' Forecasting', ' Prophet')  https://github.com/user/project12\n",
      "('Data Cleaning', ' Data Wrangling', ' Pandas')  https://github.com/user/project13\n",
      "('Feature Engineering', ' Scikit-learn')  https://github.com/user/project14\n",
      "('Statistical Analysis', ' Hypothesis Testing')  https://github.com/user/project15\n",
      "('Data Ethics', ' Privacy', ' GDPR')  https://github.com/user/project16\n",
      "('Big Data', ' Hadoop', ' Spark')  https://github.com/user/project17\n",
      "('Data Governance', ' Data Quality', ' Metadata Management')  https://github.com/user/project18\n",
      "('Data Security', ' Encryption', ' Tokenization')  https://github.com/user/project19\n",
      "('Cloud Data Engineering', ' AWS Glue', ' Databricks')  https://github.com/user/project20\n"
     ]
    }
   ],
   "source": [
    "import csv\n",
    "\n",
    "def read_csv_file(file_path):\n",
    "    data = []\n",
    "    with open(file_path, 'r') as file:\n",
    "        csv_reader = csv.reader(file)\n",
    "        # Skip the header row\n",
    "        next(csv_reader)\n",
    "        for row in csv_reader:\n",
    "            # Separate technical skills (list) and project link (string)\n",
    "            skills = tuple(row[:-1])  # Exclude the last element (project link)\n",
    "            project_link = row[-1]  # Get the last element (project link)\n",
    "            data.append((skills, project_link))  # Create a tuple with skills and link\n",
    "    return data\n",
    "\n",
    "# Example usage:\n",
    "file_path = 'sample_portfolio.csv'  # Replace with your actual file path\n",
    "data = read_csv_file(file_path)\n",
    "\n",
    "for skills, project_link in data:\n",
    "    print(skills, project_link)\n",
    "    #print(project_link)"
   ]
  },
  {
   "cell_type": "code",
   "execution_count": 9,
   "metadata": {},
   "outputs": [],
   "source": [
    "# Insert data into Vector Database\n",
    "\n",
    "import uuid\n",
    "import chromadb\n",
    "\n",
    "client = chromadb.PersistentClient('vectorstore')\n",
    "collection = client.get_or_create_collection(name='portfolio_links')\n",
    "\n",
    "if not collection.count():\n",
    "    for skills, project_url in data:\n",
    "        collection.add(\n",
    "            documents=str(skills),\n",
    "            metadatas={'portfolio_url':project_url},\n",
    "            ids=[str(uuid.uuid4())]\n",
    "        )"
   ]
  },
  {
   "cell_type": "code",
   "execution_count": 10,
   "metadata": {},
   "outputs": [
    {
     "data": {
      "text/plain": [
       "['Solid technical expertise in designing and developing large-scale, complex software solutions, preferably in an app environment.',\n",
       " 'Approach complex issues with an open mindset and a focus on achieving simplicity.',\n",
       " 'Passionate about people, offering support and guidance to software engineers while avoiding micromanagement.',\n",
       " 'Skilled at rapidly establishing relationships with stakeholders and maintaining a solution-focused approach.',\n",
       " 'Capable of building high-performing, self-sufficient teams that effectively balance speed, quality, and risk.']"
      ]
     },
     "execution_count": 10,
     "metadata": {},
     "output_type": "execute_result"
    }
   ],
   "source": [
    "json_response['skills']"
   ]
  },
  {
   "cell_type": "code",
   "execution_count": 11,
   "metadata": {},
   "outputs": [
    {
     "data": {
      "text/plain": [
       "{'ids': [['ed25f5bf-756b-41c5-9289-973d7577221e',\n",
       "   '606a09e0-5804-46ec-868e-c71b5e3de595'],\n",
       "  ['7e193151-a888-407e-a23b-1e6b7a7bed4a',\n",
       "   'ed25f5bf-756b-41c5-9289-973d7577221e'],\n",
       "  ['ed25f5bf-756b-41c5-9289-973d7577221e',\n",
       "   '27bcbae2-0fe1-4f95-ac00-0470c9841ad4'],\n",
       "  ['e049500f-f635-4ffd-a4f8-cd42e087cdbe',\n",
       "   'ed25f5bf-756b-41c5-9289-973d7577221e'],\n",
       "  ['e049500f-f635-4ffd-a4f8-cd42e087cdbe',\n",
       "   '27bcbae2-0fe1-4f95-ac00-0470c9841ad4']],\n",
       " 'embeddings': None,\n",
       " 'documents': [[\"('Feature Engineering', ' Scikit-learn')\",\n",
       "   \"('Data Warehousing', ' Data Modeling', ' DBT')\"],\n",
       "  [\"('Data Ethics', ' Privacy', ' GDPR')\",\n",
       "   \"('Feature Engineering', ' Scikit-learn')\"],\n",
       "  [\"('Feature Engineering', ' Scikit-learn')\",\n",
       "   \"('Data Engineering', ' ETL', ' ELT')\"],\n",
       "  [\"('Data Governance', ' Data Quality', ' Metadata Management')\",\n",
       "   \"('Feature Engineering', ' Scikit-learn')\"],\n",
       "  [\"('Data Governance', ' Data Quality', ' Metadata Management')\",\n",
       "   \"('Data Engineering', ' ETL', ' ELT')\"]],\n",
       " 'uris': None,\n",
       " 'data': None,\n",
       " 'metadatas': [[{'portfolio_url': ' https://github.com/user/project14'},\n",
       "   {'portfolio_url': ' https://github.com/user/project7'}],\n",
       "  [{'portfolio_url': ' https://github.com/user/project16'},\n",
       "   {'portfolio_url': ' https://github.com/user/project14'}],\n",
       "  [{'portfolio_url': ' https://github.com/user/project14'},\n",
       "   {'portfolio_url': ' https://github.com/user/project5'}],\n",
       "  [{'portfolio_url': ' https://github.com/user/project18'},\n",
       "   {'portfolio_url': ' https://github.com/user/project14'}],\n",
       "  [{'portfolio_url': ' https://github.com/user/project18'},\n",
       "   {'portfolio_url': ' https://github.com/user/project5'}]],\n",
       " 'distances': [[1.1241512442071986, 1.2303434085358693],\n",
       "  [1.5378591339548202, 1.543941671554874],\n",
       "  [1.2354704648756136, 1.3273982494960987],\n",
       "  [1.4013655049797074, 1.5118149810940624],\n",
       "  [1.4285000290768914, 1.5090614801203892]],\n",
       " 'included': [<IncludeEnum.distances: 'distances'>,\n",
       "  <IncludeEnum.documents: 'documents'>,\n",
       "  <IncludeEnum.metadatas: 'metadatas'>]}"
      ]
     },
     "execution_count": 11,
     "metadata": {},
     "output_type": "execute_result"
    }
   ],
   "source": [
    "portfolio_urls = collection.query(query_texts=json_response['skills'], n_results=2)\n",
    "portfolio_urls"
   ]
  },
  {
   "cell_type": "code",
   "execution_count": 12,
   "metadata": {},
   "outputs": [],
   "source": [
    "job_description = json_response['description']"
   ]
  },
  {
   "cell_type": "code",
   "execution_count": 13,
   "metadata": {},
   "outputs": [
    {
     "name": "stdout",
     "output_type": "stream",
     "text": [
      "<think>\n",
      "Okay, so I need to help Hassan write a cold email to a potential client. The client has a job opening for a Software Development Team Lead, and Hassan's firm, X Consulting, wants to pitch their services. \n",
      "\n",
      "First, I should understand the job description. The role involves people leadership, delivery quality, and management. The person will lead a software development team, ensure high-quality code, collaborate with the Product team, and oversee feature development. The company values forward-thinking, teamwork, determination, candor, and dedication.\n",
      "\n",
      "Now, looking at the portfolio URLs provided. There are several projects listed, each with different technologies and areas of expertise. For example, some projects focus on Feature Engineering with Scikit-learn, Data Warehousing, Data Modeling with DBT, Data Ethics, Privacy, GDPR, Data Governance, Data Quality, Metadata Management, Data Engineering with ETL and ELT.\n",
      "\n",
      "I need to pick the most relevant portfolio URLs that align with the job description. The job is about leading a software development team, ensuring technical integrity, and collaborating on technological advancements. So, I should look for projects that showcase leadership in software development, technical expertise, and collaboration.\n",
      "\n",
      "Looking at the portfolio URLs, the ones that stand out are those related to Feature Engineering, Data Engineering, and Data Governance. These areas are crucial for leading a development team and ensuring high-quality delivery. \n",
      "\n",
      "I should structure the email to highlight how X Consulting's expertise matches the client's needs. Start with a strong subject line that grabs attention, then a brief introduction, followed by specific examples from the portfolio, and a call to action.\n",
      "\n",
      "I also need to make sure the email is concise, professional, and personalized. Mentioning the client's company name and the specific job title will make it more tailored.\n",
      "\n",
      "Wait, in the provided response, the subject line is \"Elevate Your Software Development Team's Impact with X AI\". That's good. The body starts with a greeting and mentions the job opening, aligning X AI's expertise with their needs. It then lists specific projects, which is effective. \n",
      "\n",
      "I should ensure that the selected portfolio URLs are the most relevant. For example, projects involving Feature Engineering and Data Engineering seem directly related to software development leadership. \n",
      "\n",
      "I also need to make sure the email flows well, each paragraph is not too long, and the call to action is clear. Ending with a polite closing and Hassan's contact information is standard.\n",
      "\n",
      "I think the provided email is well-structured, but maybe I can make it a bit more concise or adjust the wording for better impact. However, overall, it seems effective.\n",
      "</think>\n",
      "\n",
      "**Subject:** Elevate Your Software Development Team's Impact with X AI\n",
      "\n",
      "Dear [Hiring Manager's Name],\n",
      "\n",
      "I hope this message finds you well. I came across your job opening for a Software Development Team Lead and was impressed by your focus on technical integrity and collaborative innovation. At X AI, we specialize in empowering teams to deliver exceptional results through tailored solutions.\n",
      "\n",
      "Our expertise in Feature Engineering with Scikit-learn and Data Engineering with ETL/ELT can enhance your team's capabilities. For instance, our work on [GitHub Project 14](https://github.com/user/project14) showcases our proficiency in Feature Engineering, while [GitHub Project 5](https://github.com/user/project5) highlights our Data Engineering prowess.\n",
      "\n",
      "I'd love to discuss how we can support your team in achieving their goals. Please let me know a convenient time for a brief conversation.\n",
      "\n",
      "Looking forward to the possibility of collaborating.\n",
      "\n",
      "Best regards,  \n",
      "Hassan  \n",
      "Business Development Officer  \n",
      "X AI  \n",
      "[Your Contact Information]\n"
     ]
    }
   ],
   "source": [
    "email_prompt = PromptTemplate.from_template(\n",
    "    \"\"\"\n",
    "    I will give you a role and a task that you have to perform in that specific role.\n",
    "    Your Role: Your name is Hassan, You are an incredible business development officer who knows how to get clients. You work for X Consulting firm, your firm works with all sorts of IT clients and provide solutions in the domain of Data Science and AI. \n",
    "    X AI focuses on efficient tailored solutions for all clients keeping costs down. \n",
    "    Your Job: Your Job is to write cold emails to clients regarding the Job openings that they have advertised. Try to pitch your clients with an email hook that opens a conversation about a possibility of working with them. Add the most relevant portfolio URLs from\n",
    "    the following (shared below) to showcase that we have the right expertise to get the job done. \n",
    "    I will now provide you with the Job description and the portfolio URLs:\n",
    "    JOB DESCRIPTION: {job_description}\n",
    "    ------\n",
    "    PORTFOLIO URLS: {portfolio_urls}\n",
    "    \"\"\"\n",
    ")\n",
    "\n",
    "chain_email = email_prompt | llm\n",
    "response = chain_email.invoke({'job_description':job_description, 'portfolio_urls':portfolio_urls})\n",
    "print(response.content)"
   ]
  },
  {
   "cell_type": "code",
   "execution_count": null,
   "metadata": {},
   "outputs": [],
   "source": []
  }
 ],
 "metadata": {
  "kernelspec": {
   "display_name": "Python 3",
   "language": "python",
   "name": "python3"
  },
  "language_info": {
   "codemirror_mode": {
    "name": "ipython",
    "version": 3
   },
   "file_extension": ".py",
   "mimetype": "text/x-python",
   "name": "python",
   "nbconvert_exporter": "python",
   "pygments_lexer": "ipython3",
   "version": "3.10.0"
  }
 },
 "nbformat": 4,
 "nbformat_minor": 2
}
